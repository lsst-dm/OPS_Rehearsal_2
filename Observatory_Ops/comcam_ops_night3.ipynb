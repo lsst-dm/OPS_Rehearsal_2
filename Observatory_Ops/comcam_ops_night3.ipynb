{
 "cells": [
  {
   "cell_type": "code",
   "execution_count": 1,
   "metadata": {},
   "outputs": [],
   "source": [
    "import asyncio\n",
    "import logging\n",
    "import sys\n",
    "\n",
    "from astropy.coordinates import Angle\n",
    "from astropy.time import Time\n",
    "import astropy.units as u\n",
    "\n",
    "from lsst.ts import salobj\n",
    "from lsst.ts.observatory.control.maintel.mtcs import MTCS\n",
    "from lsst.ts.observatory.control.maintel.comcam import ComCam\n",
    "\n",
    "#import mt_utils"
   ]
  },
  {
   "cell_type": "markdown",
   "metadata": {},
   "source": [
    "last run with 2020 weekly 27 LSST stack and ts_observatory_control package from develop branch (as of 7/15/2020).  has deliberate wait for images to land."
   ]
  },
  {
   "cell_type": "code",
   "execution_count": 2,
   "metadata": {},
   "outputs": [],
   "source": [
    "stream_handler = logging.StreamHandler(sys.stdout)\n",
    "\n",
    "logger = logging.getLogger()\n",
    "logger.addHandler(stream_handler)\n",
    "logger.level = logging.DEBUG"
   ]
  },
  {
   "cell_type": "code",
   "execution_count": 3,
   "metadata": {},
   "outputs": [
    {
     "name": "stdout",
     "output_type": "stream",
     "text": [
      "CCCamera: Adding all resources.\n",
      "CCHeaderService: Adding all resources.\n",
      "CCArchiver: Adding all resources.\n",
      "Read historical data in 0.00 sec\n",
      "Read 100 history items for RemoteEvent(CCHeaderService, 0, heartbeat)\n",
      "Read 39 history items for RemoteEvent(CCHeaderService, 0, largeFileObjectAvailable)\n",
      "Read 100 history items for RemoteEvent(CCHeaderService, 0, logMessage)\n",
      "Read 6 history items for RemoteEvent(CCHeaderService, 0, summaryState)\n",
      "Read historical data in 0.03 sec\n",
      "Read 1 history items for RemoteEvent(CCArchiver, 0, appliedSettingsMatchStart)\n",
      "Read 100 history items for RemoteEvent(CCArchiver, 0, heartbeat)\n",
      "Read 100 history items for RemoteEvent(CCArchiver, 0, imageInOODS)\n",
      "Read 100 history items for RemoteEvent(CCArchiver, 0, imageRetrievalForArchiving)\n",
      "Read 2 history items for RemoteEvent(CCArchiver, 0, settingsApplied)\n",
      "Read 5 history items for RemoteEvent(CCArchiver, 0, summaryState)\n",
      "Read historical data in 0.05 sec\n",
      "Read historical data in 0.05 sec\n",
      "Read historical data in 0.05 sec\n",
      "Read 7 history items for RemoteEvent(CCCamera, 0, appliedSettingsMatchStart)\n",
      "Read 7 history items for RemoteEvent(CCCamera, 0, availableFilters)\n",
      "Read 100 history items for RemoteEvent(CCCamera, 0, ccsCommandState)\n",
      "Read 100 history items for RemoteEvent(CCCamera, 0, endOfImageTelemetry)\n",
      "Read 100 history items for RemoteEvent(CCCamera, 0, endReadout)\n",
      "Read 12 history items for RemoteEvent(CCCamera, 0, endShutterClose)\n",
      "Read 11 history items for RemoteEvent(CCCamera, 0, endShutterOpen)\n",
      "Read 26 history items for RemoteEvent(CCCamera, 0, focalPlaneHardwareIdSettingsApplied)\n",
      "Read 26 history items for RemoteEvent(CCCamera, 0, focalPlaneSummaryInfo)\n",
      "Read 100 history items for RemoteEvent(CCCamera, 0, heartbeat)\n",
      "Read 100 history items for RemoteEvent(CCCamera, 0, imageReadinessDetailedState)\n",
      "Read 100 history items for RemoteEvent(CCCamera, 0, imageReadoutParameters)\n",
      "Read 2 history items for RemoteEvent(CCCamera, 0, offlineDetailedState)\n",
      "Read 100 history items for RemoteEvent(CCCamera, 0, raftsDetailedState)\n",
      "Read 8 history items for RemoteEvent(CCCamera, 0, settingVersions)\n",
      "Read 7 history items for RemoteEvent(CCCamera, 0, settingsApplied)\n",
      "Read 24 history items for RemoteEvent(CCCamera, 0, shutterDetailedState)\n",
      "Read 8 history items for RemoteEvent(CCCamera, 0, softwareVersions)\n",
      "Read 100 history items for RemoteEvent(CCCamera, 0, startIntegration)\n",
      "Read 100 history items for RemoteEvent(CCCamera, 0, startReadout)\n",
      "Read 30 history items for RemoteEvent(CCCamera, 0, summaryState)\n"
     ]
    },
    {
     "data": {
      "text/plain": [
       "[[None, None, None], None, None]"
      ]
     },
     "execution_count": 3,
     "metadata": {},
     "output_type": "execute_result"
    }
   ],
   "source": [
    "domain = salobj.Domain()\n",
    "#mtcs = MTCS(domain)\n",
    "comcam = ComCam(domain)\n",
    "mtptg = salobj.Remote(domain, \"MTPtg\")\n",
    "newmtmount = salobj.Remote(domain, \"NewMTMount\")\n",
    "\n",
    "#await asyncio.gather(mtcs.start_task, comcam.start_task)\n",
    "await asyncio.gather(comcam.start_task, mtptg.start_task, newmtmount.start_task)"
   ]
  },
  {
   "cell_type": "code",
   "execution_count": 20,
   "metadata": {},
   "outputs": [
    {
     "name": "stdout",
     "output_type": "stream",
     "text": [
      "Enabling all components\n",
      "Gathering settings.\n",
      "Received settings from users.: {'cccamera': 'Normal', 'ccarchiver': 'normal', 'ccheaderservice': None}\n",
      "Settings versions: {'cccamera': 'Normal', 'ccarchiver': 'normal', 'ccheaderservice': None}\n",
      "[cccamera]::[<State.STANDBY: 5>, <State.DISABLED: 1>, <State.ENABLED: 2>]\n",
      "[ccheaderservice]::[<State.STANDBY: 5>, <State.DISABLED: 1>, <State.ENABLED: 2>]\n",
      "[ccarchiver]::[<State.STANDBY: 5>, <State.DISABLED: 1>, <State.ENABLED: 2>]\n",
      "All components in <State.ENABLED: 2>.\n"
     ]
    }
   ],
   "source": [
    "await comcam.enable(settings={\"cccamera\": \"Normal\",\n",
    "                              \"ccarchiver\": \"normal\",\n",
    "                              \"ccheaderservice\": None})"
   ]
  },
  {
   "cell_type": "code",
   "execution_count": 21,
   "metadata": {},
   "outputs": [],
   "source": [
    "date = Time.now()\n",
    "group_id = f'CALSET_{date.tai.strftime(\"%Y%m%d_%H%M\")}'"
   ]
  },
  {
   "cell_type": "code",
   "execution_count": 22,
   "metadata": {},
   "outputs": [
    {
     "name": "stdout",
     "output_type": "stream",
     "text": [
      "BIAS 0001 - 0005\n",
      "BIAS 0002 - 0005\n",
      "BIAS 0003 - 0005\n",
      "BIAS 0004 - 0005\n",
      "BIAS 0005 - 0005\n"
     ]
    },
    {
     "data": {
      "text/plain": [
       "array([2020072900001, 2020072900002, 2020072900003, 2020072900004,\n",
       "       2020072900005])"
      ]
     },
     "execution_count": 22,
     "metadata": {},
     "output_type": "execute_result"
    }
   ],
   "source": [
    "await comcam.take_bias(nbias=5, group_id=group_id)"
   ]
  },
  {
   "cell_type": "code",
   "execution_count": 23,
   "metadata": {},
   "outputs": [
    {
     "name": "stdout",
     "output_type": "stream",
     "text": [
      "BIAS 0001 - 0005\n",
      "BIAS 0002 - 0005\n",
      "BIAS 0003 - 0005\n",
      "BIAS 0004 - 0005\n",
      "BIAS 0005 - 0005\n"
     ]
    },
    {
     "data": {
      "text/plain": [
       "array([2020072900006, 2020072900007, 2020072900008, 2020072900009,\n",
       "       2020072900010])"
      ]
     },
     "execution_count": 23,
     "metadata": {},
     "output_type": "execute_result"
    }
   ],
   "source": [
    "await comcam.take_bias(nbias=5, group_id=group_id)"
   ]
  },
  {
   "cell_type": "code",
   "execution_count": 24,
   "metadata": {},
   "outputs": [
    {
     "name": "stdout",
     "output_type": "stream",
     "text": [
      "DARK 0001 - 0010\n",
      "DARK 0002 - 0010\n",
      "DARK 0003 - 0010\n",
      "DARK 0004 - 0010\n",
      "DARK 0005 - 0010\n",
      "logMessage DDS read queue is filling: 11 of 100 elements\n",
      "DARK 0006 - 0010\n",
      "DARK 0007 - 0010\n",
      "DARK 0008 - 0010\n",
      "DARK 0009 - 0010\n",
      "DARK 0010 - 0010\n"
     ]
    },
    {
     "data": {
      "text/plain": [
       "array([2020072900011, 2020072900012, 2020072900013, 2020072900014,\n",
       "       2020072900015, 2020072900016, 2020072900017, 2020072900018,\n",
       "       2020072900019, 2020072900020])"
      ]
     },
     "execution_count": 24,
     "metadata": {},
     "output_type": "execute_result"
    }
   ],
   "source": [
    "await comcam.take_darks(exptime=100.0, ndarks=10, group_id=group_id)"
   ]
  },
  {
   "cell_type": "code",
   "execution_count": 25,
   "metadata": {},
   "outputs": [
    {
     "name": "stdout",
     "output_type": "stream",
     "text": [
      "FLAT 0001 - 0005\n",
      "FLAT 0002 - 0005\n",
      "FLAT 0003 - 0005\n",
      "FLAT 0004 - 0005\n"
     ]
    },
    {
     "ename": "AckError",
     "evalue": "msg='Command failed', ackcmd=(ackcmd private_seqNum=2140149292, ack=<SalRetCode.CMD_FAILED: -302>, error=0, result='Error : Command failed: org.lsst.ccs.bus.messages.CommandResult(org.lsst.ccs.command.CommandInvocationException: java.util.concurrent.TimeoutException: Timeout waiting for state: READING_OUT from mcm-comcam:WORKER)')",
     "output_type": "error",
     "traceback": [
      "\u001b[0;31m---------------------------------------------------------------------------\u001b[0m",
      "\u001b[0;31mAckError\u001b[0m                                  Traceback (most recent call last)",
      "\u001b[0;32m<ipython-input-25-7ba362215dca>\u001b[0m in \u001b[0;36masync-def-wrapper\u001b[0;34m()\u001b[0m\n",
      "\u001b[0;32m~/notebooks/local_ups_db/ups_db/ts_observatory_control/python/lsst/ts/observatory/control/base_camera.py\u001b[0m in \u001b[0;36mtake_flats\u001b[0;34m(self, exptime, nflats, group_id, test_type, sensors, note, checkpoint, **kwargs)\u001b[0m\n\u001b[1;32m    245\u001b[0m             \u001b[0mnote\u001b[0m\u001b[0;34m=\u001b[0m\u001b[0mnote\u001b[0m\u001b[0;34m,\u001b[0m\u001b[0;34m\u001b[0m\u001b[0;34m\u001b[0m\u001b[0m\n\u001b[1;32m    246\u001b[0m             \u001b[0mcheckpoint\u001b[0m\u001b[0;34m=\u001b[0m\u001b[0mcheckpoint\u001b[0m\u001b[0;34m,\u001b[0m\u001b[0;34m\u001b[0m\u001b[0;34m\u001b[0m\u001b[0m\n\u001b[0;32m--> 247\u001b[0;31m             \u001b[0;34m**\u001b[0m\u001b[0mkwargs\u001b[0m\u001b[0;34m,\u001b[0m\u001b[0;34m\u001b[0m\u001b[0;34m\u001b[0m\u001b[0m\n\u001b[0m\u001b[1;32m    248\u001b[0m         )\n\u001b[1;32m    249\u001b[0m \u001b[0;34m\u001b[0m\u001b[0m\n",
      "\u001b[0;32m~/notebooks/local_ups_db/ups_db/ts_observatory_control/python/lsst/ts/observatory/control/base_camera.py\u001b[0m in \u001b[0;36mtake_imgtype\u001b[0;34m(self, imgtype, exptime, n, group_id, test_type, sensors, note, checkpoint, **kwargs)\u001b[0m\n\u001b[1;32m    447\u001b[0m                 \u001b[0mtest_type\u001b[0m\u001b[0;34m=\u001b[0m\u001b[0mtest_type\u001b[0m\u001b[0;34m,\u001b[0m\u001b[0;34m\u001b[0m\u001b[0;34m\u001b[0m\u001b[0m\n\u001b[1;32m    448\u001b[0m                 \u001b[0msensors\u001b[0m\u001b[0;34m=\u001b[0m\u001b[0msensors\u001b[0m\u001b[0;34m,\u001b[0m\u001b[0;34m\u001b[0m\u001b[0;34m\u001b[0m\u001b[0m\n\u001b[0;32m--> 449\u001b[0;31m                 \u001b[0mnote\u001b[0m\u001b[0;34m=\u001b[0m\u001b[0mnote\u001b[0m\u001b[0;34m,\u001b[0m\u001b[0;34m\u001b[0m\u001b[0;34m\u001b[0m\u001b[0m\n\u001b[0m\u001b[1;32m    450\u001b[0m             )\n\u001b[1;32m    451\u001b[0m             \u001b[0;31m# parse out visitID from filename -\u001b[0m\u001b[0;34m\u001b[0m\u001b[0;34m\u001b[0m\u001b[0;34m\u001b[0m\u001b[0m\n",
      "\u001b[0;32m~/notebooks/local_ups_db/ups_db/ts_observatory_control/python/lsst/ts/observatory/control/maintel/comcam.py\u001b[0m in \u001b[0;36mexpose\u001b[0;34m(self, exp_time, shutter, image_type, group_id, test_type, sensors, note)\u001b[0m\n\u001b[1;32m    191\u001b[0m             \u001b[0mtimeout\u001b[0m \u001b[0;34m=\u001b[0m \u001b[0mself\u001b[0m\u001b[0;34m.\u001b[0m\u001b[0mread_out_time\u001b[0m \u001b[0;34m+\u001b[0m \u001b[0mself\u001b[0m\u001b[0;34m.\u001b[0m\u001b[0mlong_timeout\u001b[0m \u001b[0;34m+\u001b[0m \u001b[0mself\u001b[0m\u001b[0;34m.\u001b[0m\u001b[0mlong_long_timeout\u001b[0m\u001b[0;34m\u001b[0m\u001b[0;34m\u001b[0m\u001b[0m\n\u001b[1;32m    192\u001b[0m             \u001b[0mself\u001b[0m\u001b[0;34m.\u001b[0m\u001b[0mrem\u001b[0m\u001b[0;34m.\u001b[0m\u001b[0mcccamera\u001b[0m\u001b[0;34m.\u001b[0m\u001b[0mevt_endReadout\u001b[0m\u001b[0;34m.\u001b[0m\u001b[0mflush\u001b[0m\u001b[0;34m(\u001b[0m\u001b[0;34m)\u001b[0m\u001b[0;34m\u001b[0m\u001b[0;34m\u001b[0m\u001b[0m\n\u001b[0;32m--> 193\u001b[0;31m             \u001b[0;32mawait\u001b[0m \u001b[0mself\u001b[0m\u001b[0;34m.\u001b[0m\u001b[0mrem\u001b[0m\u001b[0;34m.\u001b[0m\u001b[0mcccamera\u001b[0m\u001b[0;34m.\u001b[0m\u001b[0mcmd_takeImages\u001b[0m\u001b[0;34m.\u001b[0m\u001b[0mstart\u001b[0m\u001b[0;34m(\u001b[0m\u001b[0mtimeout\u001b[0m\u001b[0;34m=\u001b[0m\u001b[0mtimeout\u001b[0m \u001b[0;34m+\u001b[0m \u001b[0mexp_time\u001b[0m\u001b[0;34m)\u001b[0m\u001b[0;34m\u001b[0m\u001b[0;34m\u001b[0m\u001b[0m\n\u001b[0m\u001b[1;32m    194\u001b[0m             end_readout = await self.rem.cccamera.evt_endReadout.next(\n\u001b[1;32m    195\u001b[0m                 \u001b[0mflush\u001b[0m\u001b[0;34m=\u001b[0m\u001b[0;32mFalse\u001b[0m\u001b[0;34m,\u001b[0m \u001b[0mtimeout\u001b[0m\u001b[0;34m=\u001b[0m\u001b[0mtimeout\u001b[0m\u001b[0;34m\u001b[0m\u001b[0;34m\u001b[0m\u001b[0m\n",
      "\u001b[0;32m/opt/lsst/src/ts_salobj/python/lsst/ts/salobj/topics/remote_command.py\u001b[0m in \u001b[0;36mstart\u001b[0;34m(self, data, timeout, wait_done)\u001b[0m\n\u001b[1;32m    430\u001b[0m         )\n\u001b[1;32m    431\u001b[0m         \u001b[0mself\u001b[0m\u001b[0;34m.\u001b[0m\u001b[0msalinfo\u001b[0m\u001b[0;34m.\u001b[0m\u001b[0m_running_cmds\u001b[0m\u001b[0;34m[\u001b[0m\u001b[0mseq_num\u001b[0m\u001b[0;34m]\u001b[0m \u001b[0;34m=\u001b[0m \u001b[0mcmd_info\u001b[0m\u001b[0;34m\u001b[0m\u001b[0;34m\u001b[0m\u001b[0m\n\u001b[0;32m--> 432\u001b[0;31m         \u001b[0;32mreturn\u001b[0m \u001b[0;32mawait\u001b[0m \u001b[0mcmd_info\u001b[0m\u001b[0;34m.\u001b[0m\u001b[0mnext_ackcmd\u001b[0m\u001b[0;34m(\u001b[0m\u001b[0mtimeout\u001b[0m\u001b[0;34m=\u001b[0m\u001b[0mtimeout\u001b[0m\u001b[0;34m)\u001b[0m\u001b[0;34m\u001b[0m\u001b[0;34m\u001b[0m\u001b[0m\n\u001b[0m",
      "\u001b[0;32m/opt/lsst/src/ts_salobj/python/lsst/ts/salobj/topics/remote_command.py\u001b[0m in \u001b[0;36mnext_ackcmd\u001b[0;34m(self, timeout)\u001b[0m\n\u001b[1;32m    179\u001b[0m             \u001b[0;31m# print(f\"next_ackcmd got {ackcmd.ack} from _basic_next_ack\")\u001b[0m\u001b[0;34m\u001b[0m\u001b[0;34m\u001b[0m\u001b[0;34m\u001b[0m\u001b[0m\n\u001b[1;32m    180\u001b[0m             \u001b[0;32mif\u001b[0m \u001b[0mackcmd\u001b[0m\u001b[0;34m.\u001b[0m\u001b[0mack\u001b[0m \u001b[0;32min\u001b[0m \u001b[0mself\u001b[0m\u001b[0;34m.\u001b[0m\u001b[0mfailed_ack_codes\u001b[0m\u001b[0;34m:\u001b[0m\u001b[0;34m\u001b[0m\u001b[0;34m\u001b[0m\u001b[0m\n\u001b[0;32m--> 181\u001b[0;31m                 \u001b[0;32mraise\u001b[0m \u001b[0mbase\u001b[0m\u001b[0;34m.\u001b[0m\u001b[0mAckError\u001b[0m\u001b[0;34m(\u001b[0m\u001b[0mmsg\u001b[0m\u001b[0;34m=\u001b[0m\u001b[0;34m\"Command failed\"\u001b[0m\u001b[0;34m,\u001b[0m \u001b[0mackcmd\u001b[0m\u001b[0;34m=\u001b[0m\u001b[0mackcmd\u001b[0m\u001b[0;34m)\u001b[0m\u001b[0;34m\u001b[0m\u001b[0;34m\u001b[0m\u001b[0m\n\u001b[0m\u001b[1;32m    182\u001b[0m             \u001b[0;32mreturn\u001b[0m \u001b[0mackcmd\u001b[0m\u001b[0;34m\u001b[0m\u001b[0;34m\u001b[0m\u001b[0m\n\u001b[1;32m    183\u001b[0m         \u001b[0;32mexcept\u001b[0m \u001b[0masyncio\u001b[0m\u001b[0;34m.\u001b[0m\u001b[0mTimeoutError\u001b[0m\u001b[0;34m:\u001b[0m\u001b[0;34m\u001b[0m\u001b[0;34m\u001b[0m\u001b[0m\n",
      "\u001b[0;31mAckError\u001b[0m: msg='Command failed', ackcmd=(ackcmd private_seqNum=2140149292, ack=<SalRetCode.CMD_FAILED: -302>, error=0, result='Error : Command failed: org.lsst.ccs.bus.messages.CommandResult(org.lsst.ccs.command.CommandInvocationException: java.util.concurrent.TimeoutException: Timeout waiting for state: READING_OUT from mcm-comcam:WORKER)')"
     ]
    }
   ],
   "source": [
    "await comcam.take_flats(exptime=5.0, nflats=5, group_id=group_id)"
   ]
  },
  {
   "cell_type": "code",
   "execution_count": 27,
   "metadata": {},
   "outputs": [
    {
     "name": "stdout",
     "output_type": "stream",
     "text": [
      "FLAT 0001 - 0007\n",
      "FLAT 0002 - 0007\n",
      "FLAT 0003 - 0007\n",
      "FLAT 0004 - 0007\n",
      "FLAT 0005 - 0007\n",
      "FLAT 0006 - 0007\n",
      "FLAT 0007 - 0007\n"
     ]
    },
    {
     "data": {
      "text/plain": [
       "array([2020072900026, 2020072900027, 2020072900028, 2020072900029,\n",
       "       2020072900030, 2020072900031, 2020072900032])"
      ]
     },
     "execution_count": 27,
     "metadata": {},
     "output_type": "execute_result"
    }
   ],
   "source": [
    "await comcam.take_flats(exptime=5.0, nflats=7, group_id=group_id)"
   ]
  },
  {
   "cell_type": "code",
   "execution_count": 28,
   "metadata": {},
   "outputs": [
    {
     "name": "stdout",
     "output_type": "stream",
     "text": [
      "[cccamera]::[<State.ENABLED: 2>, <State.DISABLED: 1>, <State.STANDBY: 5>]\n",
      "[ccheaderservice]::[<State.ENABLED: 2>, <State.DISABLED: 1>, <State.STANDBY: 5>]\n",
      "[ccarchiver]::[<State.ENABLED: 2>, <State.DISABLED: 1>, <State.STANDBY: 5>]\n",
      "All components in <State.STANDBY: 5>.\n"
     ]
    }
   ],
   "source": [
    "await comcam.standby()"
   ]
  },
  {
   "cell_type": "code",
   "execution_count": null,
   "metadata": {},
   "outputs": [],
   "source": []
  },
  {
   "cell_type": "code",
   "execution_count": null,
   "metadata": {},
   "outputs": [],
   "source": []
  }
 ],
 "metadata": {
  "kernelspec": {
   "display_name": "LSST",
   "language": "python",
   "name": "lsst"
  },
  "language_info": {
   "codemirror_mode": {
    "name": "ipython",
    "version": 3
   },
   "file_extension": ".py",
   "mimetype": "text/x-python",
   "name": "python",
   "nbconvert_exporter": "python",
   "pygments_lexer": "ipython3",
   "version": "3.7.6"
  }
 },
 "nbformat": 4,
 "nbformat_minor": 4
}
