{
 "cells": [
  {
   "cell_type": "code",
   "execution_count": 1,
   "metadata": {},
   "outputs": [],
   "source": [
    "import asyncio\n",
    "import logging\n",
    "import sys\n",
    "\n",
    "from astropy.coordinates import Angle\n",
    "from astropy.time import Time\n",
    "import astropy.units as u\n",
    "\n",
    "from lsst.ts import salobj\n",
    "from lsst.ts.observatory.control.maintel.mtcs import MTCS\n",
    "from lsst.ts.observatory.control.maintel.comcam import ComCam\n",
    "\n",
    "#import mt_utils"
   ]
  },
  {
   "cell_type": "code",
   "execution_count": 2,
   "metadata": {},
   "outputs": [],
   "source": [
    "stream_handler = logging.StreamHandler(sys.stdout)\n",
    "\n",
    "logger = logging.getLogger()\n",
    "logger.addHandler(stream_handler)\n",
    "logger.level = logging.DEBUG"
   ]
  },
  {
   "cell_type": "code",
   "execution_count": 3,
   "metadata": {},
   "outputs": [
    {
     "name": "stdout",
     "output_type": "stream",
     "text": [
      "CCCamera: Adding all resources.\n",
      "CCHeaderService: Adding all resources.\n",
      "CCArchiver: Adding all resources.\n",
      "Read historical data in 0.00 sec\n",
      "Read 100 history items for RemoteEvent(CCHeaderService, 0, heartbeat)\n",
      "Read 39 history items for RemoteEvent(CCHeaderService, 0, largeFileObjectAvailable)\n",
      "Read 100 history items for RemoteEvent(CCHeaderService, 0, logMessage)\n",
      "Read 6 history items for RemoteEvent(CCHeaderService, 0, summaryState)\n",
      "Read historical data in 0.03 sec\n",
      "Read 1 history items for RemoteEvent(CCArchiver, 0, appliedSettingsMatchStart)\n",
      "Read 100 history items for RemoteEvent(CCArchiver, 0, heartbeat)\n",
      "Read 100 history items for RemoteEvent(CCArchiver, 0, imageInOODS)\n",
      "Read 100 history items for RemoteEvent(CCArchiver, 0, imageRetrievalForArchiving)\n",
      "Read 2 history items for RemoteEvent(CCArchiver, 0, settingsApplied)\n",
      "Read 5 history items for RemoteEvent(CCArchiver, 0, summaryState)\n",
      "Read historical data in 0.05 sec\n",
      "Read historical data in 0.05 sec\n",
      "Read historical data in 0.05 sec\n",
      "Read 7 history items for RemoteEvent(CCCamera, 0, appliedSettingsMatchStart)\n",
      "Read 7 history items for RemoteEvent(CCCamera, 0, availableFilters)\n",
      "Read 100 history items for RemoteEvent(CCCamera, 0, ccsCommandState)\n",
      "Read 100 history items for RemoteEvent(CCCamera, 0, endOfImageTelemetry)\n",
      "Read 100 history items for RemoteEvent(CCCamera, 0, endReadout)\n",
      "Read 12 history items for RemoteEvent(CCCamera, 0, endShutterClose)\n",
      "Read 11 history items for RemoteEvent(CCCamera, 0, endShutterOpen)\n",
      "Read 26 history items for RemoteEvent(CCCamera, 0, focalPlaneHardwareIdSettingsApplied)\n",
      "Read 26 history items for RemoteEvent(CCCamera, 0, focalPlaneSummaryInfo)\n",
      "Read 100 history items for RemoteEvent(CCCamera, 0, heartbeat)\n",
      "Read 100 history items for RemoteEvent(CCCamera, 0, imageReadinessDetailedState)\n",
      "Read 100 history items for RemoteEvent(CCCamera, 0, imageReadoutParameters)\n",
      "Read 2 history items for RemoteEvent(CCCamera, 0, offlineDetailedState)\n",
      "Read 100 history items for RemoteEvent(CCCamera, 0, raftsDetailedState)\n",
      "Read 8 history items for RemoteEvent(CCCamera, 0, settingVersions)\n",
      "Read 7 history items for RemoteEvent(CCCamera, 0, settingsApplied)\n",
      "Read 24 history items for RemoteEvent(CCCamera, 0, shutterDetailedState)\n",
      "Read 8 history items for RemoteEvent(CCCamera, 0, softwareVersions)\n",
      "Read 100 history items for RemoteEvent(CCCamera, 0, startIntegration)\n",
      "Read 100 history items for RemoteEvent(CCCamera, 0, startReadout)\n",
      "Read 30 history items for RemoteEvent(CCCamera, 0, summaryState)\n"
     ]
    },
    {
     "data": {
      "text/plain": [
       "[[None, None, None], None, None]"
      ]
     },
     "execution_count": 3,
     "metadata": {},
     "output_type": "execute_result"
    }
   ],
   "source": [
    "domain = salobj.Domain()\n",
    "#mtcs = MTCS(domain)\n",
    "comcam = ComCam(domain)\n",
    "mtptg = salobj.Remote(domain, \"MTPtg\")\n",
    "newmtmount = salobj.Remote(domain, \"NewMTMount\")\n",
    "\n",
    "#await asyncio.gather(mtcs.start_task, comcam.start_task)\n",
    "await asyncio.gather(comcam.start_task, mtptg.start_task, newmtmount.start_task)"
   ]
  },
  {
   "cell_type": "code",
   "execution_count": 4,
   "metadata": {},
   "outputs": [
    {
     "name": "stdout",
     "output_type": "stream",
     "text": [
      "Enabling all components\n",
      "Gathering settings.\n",
      "Received settings from users.: {'cccamera': 'Normal', 'ccarchiver': 'normal', 'ccheaderservice': None}\n",
      "Settings versions: {'cccamera': 'Normal', 'ccarchiver': 'normal', 'ccheaderservice': None}\n",
      "[cccamera]::[<State.STANDBY: 5>, <State.DISABLED: 1>, <State.ENABLED: 2>]\n",
      "[ccheaderservice]::[<State.STANDBY: 5>, <State.DISABLED: 1>, <State.ENABLED: 2>]\n",
      "[ccarchiver]::[<State.STANDBY: 5>, <State.DISABLED: 1>, <State.ENABLED: 2>]\n",
      "All components in <State.ENABLED: 2>.\n"
     ]
    }
   ],
   "source": [
    "await comcam.enable(settings={\"cccamera\": \"Normal\",\n",
    "                              \"ccarchiver\": \"normal\",\n",
    "                              \"ccheaderservice\": None})"
   ]
  },
  {
   "cell_type": "code",
   "execution_count": 5,
   "metadata": {},
   "outputs": [],
   "source": [
    "date = Time.now()\n",
    "group_id = f'CALSET_{date.tai.strftime(\"%Y%m%d_%H%M\")}'"
   ]
  },
  {
   "cell_type": "code",
   "execution_count": 7,
   "metadata": {},
   "outputs": [
    {
     "name": "stdout",
     "output_type": "stream",
     "text": [
      "BIAS 0001 - 0002\n",
      "BIAS 0002 - 0002\n"
     ]
    },
    {
     "data": {
      "text/plain": [
       "array([2020072700011, 2020072700012])"
      ]
     },
     "execution_count": 7,
     "metadata": {},
     "output_type": "execute_result"
    }
   ],
   "source": [
    "await comcam.take_bias(nbias=2, group_id=group_id)"
   ]
  },
  {
   "cell_type": "code",
   "execution_count": 8,
   "metadata": {},
   "outputs": [
    {
     "name": "stdout",
     "output_type": "stream",
     "text": [
      "DARK 0001 - 0010\n",
      "DARK 0002 - 0010\n",
      "DARK 0003 - 0010\n",
      "DARK 0004 - 0010\n",
      "DARK 0005 - 0010\n",
      "DARK 0006 - 0010\n",
      "DARK 0007 - 0010\n",
      "DARK 0008 - 0010\n",
      "DARK 0009 - 0010\n",
      "DARK 0010 - 0010\n"
     ]
    },
    {
     "data": {
      "text/plain": [
       "array([2020072700013, 2020072700014, 2020072700015, 2020072700016,\n",
       "       2020072700017, 2020072700018, 2020072700019, 2020072700020,\n",
       "       2020072700021, 2020072700022])"
      ]
     },
     "execution_count": 8,
     "metadata": {},
     "output_type": "execute_result"
    }
   ],
   "source": [
    "await comcam.take_darks(exptime=100.0, ndarks=10, group_id=group_id)"
   ]
  },
  {
   "cell_type": "code",
   "execution_count": 9,
   "metadata": {},
   "outputs": [
    {
     "name": "stdout",
     "output_type": "stream",
     "text": [
      "FLAT 0001 - 0010\n",
      "FLAT 0002 - 0010\n",
      "FLAT 0003 - 0010\n",
      "FLAT 0004 - 0010\n",
      "FLAT 0005 - 0010\n",
      "FLAT 0006 - 0010\n",
      "FLAT 0007 - 0010\n",
      "FLAT 0008 - 0010\n",
      "FLAT 0009 - 0010\n",
      "FLAT 0010 - 0010\n"
     ]
    },
    {
     "data": {
      "text/plain": [
       "array([2020072700023, 2020072700024, 2020072700025, 2020072700026,\n",
       "       2020072700027, 2020072700028, 2020072700029, 2020072700030,\n",
       "       2020072700031, 2020072700032])"
      ]
     },
     "execution_count": 9,
     "metadata": {},
     "output_type": "execute_result"
    }
   ],
   "source": [
    "await comcam.take_flats(exptime=5.0, nflats=10, group_id=group_id)"
   ]
  },
  {
   "cell_type": "code",
   "execution_count": 11,
   "metadata": {},
   "outputs": [
    {
     "name": "stdout",
     "output_type": "stream",
     "text": [
      "[cccamera]::[<State.ENABLED: 2>, <State.DISABLED: 1>, <State.STANDBY: 5>]\n",
      "[ccheaderservice]::[<State.ENABLED: 2>, <State.DISABLED: 1>, <State.STANDBY: 5>]\n",
      "[ccarchiver]::[<State.ENABLED: 2>, <State.DISABLED: 1>, <State.STANDBY: 5>]\n",
      "All components in <State.STANDBY: 5>.\n"
     ]
    }
   ],
   "source": [
    "await comcam.standby()"
   ]
  },
  {
   "cell_type": "code",
   "execution_count": null,
   "metadata": {},
   "outputs": [],
   "source": []
  },
  {
   "cell_type": "code",
   "execution_count": null,
   "metadata": {},
   "outputs": [],
   "source": []
  }
 ],
 "metadata": {
  "kernelspec": {
   "display_name": "LSST",
   "language": "python",
   "name": "lsst"
  },
  "language_info": {
   "codemirror_mode": {
    "name": "ipython",
    "version": 3
   },
   "file_extension": ".py",
   "mimetype": "text/x-python",
   "name": "python",
   "nbconvert_exporter": "python",
   "pygments_lexer": "ipython3",
   "version": "3.7.6"
  }
 },
 "nbformat": 4,
 "nbformat_minor": 4
}
