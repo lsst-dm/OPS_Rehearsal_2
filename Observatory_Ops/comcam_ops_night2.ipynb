{
 "cells": [
  {
   "cell_type": "code",
   "execution_count": 1,
   "metadata": {},
   "outputs": [],
   "source": [
    "import asyncio\n",
    "import logging\n",
    "import sys\n",
    "\n",
    "from astropy.coordinates import Angle\n",
    "from astropy.time import Time\n",
    "import astropy.units as u\n",
    "\n",
    "from lsst.ts import salobj\n",
    "from lsst.ts.observatory.control.maintel.mtcs import MTCS\n",
    "from lsst.ts.observatory.control.maintel.comcam import ComCam\n",
    "\n",
    "#import mt_utils"
   ]
  },
  {
   "cell_type": "markdown",
   "metadata": {},
   "source": [
    "last run with 2020 weekly 27 LSST stack and ts_observatory_control package from develop branch (as of 7/15/2020).  has deliberate wait for images to land."
   ]
  },
  {
   "cell_type": "code",
   "execution_count": 2,
   "metadata": {},
   "outputs": [],
   "source": [
    "stream_handler = logging.StreamHandler(sys.stdout)\n",
    "\n",
    "logger = logging.getLogger()\n",
    "logger.addHandler(stream_handler)\n",
    "logger.level = logging.DEBUG"
   ]
  },
  {
   "cell_type": "code",
   "execution_count": 3,
   "metadata": {},
   "outputs": [
    {
     "name": "stdout",
     "output_type": "stream",
     "text": [
      "CCCamera: Adding all resources.\n",
      "CCHeaderService: Adding all resources.\n",
      "CCArchiver: Adding all resources.\n",
      "Read historical data in 0.00 sec\n",
      "Read 100 history items for RemoteEvent(CCHeaderService, 0, heartbeat)\n",
      "Read 39 history items for RemoteEvent(CCHeaderService, 0, largeFileObjectAvailable)\n",
      "Read 100 history items for RemoteEvent(CCHeaderService, 0, logMessage)\n",
      "Read 6 history items for RemoteEvent(CCHeaderService, 0, summaryState)\n",
      "Read historical data in 0.03 sec\n",
      "Read 1 history items for RemoteEvent(CCArchiver, 0, appliedSettingsMatchStart)\n",
      "Read 100 history items for RemoteEvent(CCArchiver, 0, heartbeat)\n",
      "Read 100 history items for RemoteEvent(CCArchiver, 0, imageInOODS)\n",
      "Read 100 history items for RemoteEvent(CCArchiver, 0, imageRetrievalForArchiving)\n",
      "Read 2 history items for RemoteEvent(CCArchiver, 0, settingsApplied)\n",
      "Read 5 history items for RemoteEvent(CCArchiver, 0, summaryState)\n",
      "Read historical data in 0.05 sec\n",
      "Read historical data in 0.05 sec\n",
      "Read historical data in 0.05 sec\n",
      "Read 7 history items for RemoteEvent(CCCamera, 0, appliedSettingsMatchStart)\n",
      "Read 7 history items for RemoteEvent(CCCamera, 0, availableFilters)\n",
      "Read 100 history items for RemoteEvent(CCCamera, 0, ccsCommandState)\n",
      "Read 100 history items for RemoteEvent(CCCamera, 0, endOfImageTelemetry)\n",
      "Read 100 history items for RemoteEvent(CCCamera, 0, endReadout)\n",
      "Read 12 history items for RemoteEvent(CCCamera, 0, endShutterClose)\n",
      "Read 11 history items for RemoteEvent(CCCamera, 0, endShutterOpen)\n",
      "Read 26 history items for RemoteEvent(CCCamera, 0, focalPlaneHardwareIdSettingsApplied)\n",
      "Read 26 history items for RemoteEvent(CCCamera, 0, focalPlaneSummaryInfo)\n",
      "Read 100 history items for RemoteEvent(CCCamera, 0, heartbeat)\n",
      "Read 100 history items for RemoteEvent(CCCamera, 0, imageReadinessDetailedState)\n",
      "Read 100 history items for RemoteEvent(CCCamera, 0, imageReadoutParameters)\n",
      "Read 2 history items for RemoteEvent(CCCamera, 0, offlineDetailedState)\n",
      "Read 100 history items for RemoteEvent(CCCamera, 0, raftsDetailedState)\n",
      "Read 8 history items for RemoteEvent(CCCamera, 0, settingVersions)\n",
      "Read 7 history items for RemoteEvent(CCCamera, 0, settingsApplied)\n",
      "Read 24 history items for RemoteEvent(CCCamera, 0, shutterDetailedState)\n",
      "Read 8 history items for RemoteEvent(CCCamera, 0, softwareVersions)\n",
      "Read 100 history items for RemoteEvent(CCCamera, 0, startIntegration)\n",
      "Read 100 history items for RemoteEvent(CCCamera, 0, startReadout)\n",
      "Read 30 history items for RemoteEvent(CCCamera, 0, summaryState)\n"
     ]
    },
    {
     "data": {
      "text/plain": [
       "[[None, None, None], None, None]"
      ]
     },
     "execution_count": 3,
     "metadata": {},
     "output_type": "execute_result"
    }
   ],
   "source": [
    "domain = salobj.Domain()\n",
    "#mtcs = MTCS(domain)\n",
    "comcam = ComCam(domain)\n",
    "mtptg = salobj.Remote(domain, \"MTPtg\")\n",
    "newmtmount = salobj.Remote(domain, \"NewMTMount\")\n",
    "\n",
    "#await asyncio.gather(mtcs.start_task, comcam.start_task)\n",
    "await asyncio.gather(comcam.start_task, mtptg.start_task, newmtmount.start_task)"
   ]
  },
  {
   "cell_type": "code",
   "execution_count": 12,
   "metadata": {},
   "outputs": [
    {
     "name": "stdout",
     "output_type": "stream",
     "text": [
      "Enabling all components\n",
      "Gathering settings.\n",
      "Received settings from users.: {'cccamera': 'Normal', 'ccarchiver': 'normal', 'ccheaderservice': None}\n",
      "Settings versions: {'cccamera': 'Normal', 'ccarchiver': 'normal', 'ccheaderservice': None}\n",
      "[cccamera]::[<State.STANDBY: 5>, <State.DISABLED: 1>, <State.ENABLED: 2>]\n",
      "[ccheaderservice]::[<State.STANDBY: 5>, <State.DISABLED: 1>, <State.ENABLED: 2>]\n",
      "[ccarchiver]::[<State.STANDBY: 5>, <State.DISABLED: 1>, <State.ENABLED: 2>]\n",
      "All components in <State.ENABLED: 2>.\n"
     ]
    }
   ],
   "source": [
    "await comcam.enable(settings={\"cccamera\": \"Normal\",\n",
    "                              \"ccarchiver\": \"normal\",\n",
    "                              \"ccheaderservice\": None})"
   ]
  },
  {
   "cell_type": "code",
   "execution_count": 13,
   "metadata": {},
   "outputs": [],
   "source": [
    "date = Time.now()\n",
    "group_id = f'CALSET_{date.tai.strftime(\"%Y%m%d_%H%M\")}'"
   ]
  },
  {
   "cell_type": "code",
   "execution_count": 14,
   "metadata": {},
   "outputs": [
    {
     "name": "stdout",
     "output_type": "stream",
     "text": [
      "BIAS 0001 - 0005\n",
      "BIAS 0002 - 0005\n",
      "BIAS 0003 - 0005\n",
      "BIAS 0004 - 0005\n",
      "BIAS 0005 - 0005\n"
     ]
    },
    {
     "data": {
      "text/plain": [
       "array([2020072800035, 2020072800036, 2020072800037, 2020072800038,\n",
       "       2020072800039])"
      ]
     },
     "execution_count": 14,
     "metadata": {},
     "output_type": "execute_result"
    }
   ],
   "source": [
    "await comcam.take_bias(nbias=5, group_id=group_id)"
   ]
  },
  {
   "cell_type": "code",
   "execution_count": 15,
   "metadata": {},
   "outputs": [
    {
     "name": "stdout",
     "output_type": "stream",
     "text": [
      "BIAS 0001 - 0005\n",
      "BIAS 0002 - 0005\n",
      "BIAS 0003 - 0005\n",
      "BIAS 0004 - 0005\n",
      "BIAS 0005 - 0005\n"
     ]
    },
    {
     "data": {
      "text/plain": [
       "array([2020072800040, 2020072800041, 2020072800042, 2020072800043,\n",
       "       2020072800044])"
      ]
     },
     "execution_count": 15,
     "metadata": {},
     "output_type": "execute_result"
    }
   ],
   "source": [
    "await comcam.take_bias(nbias=5, group_id=group_id)"
   ]
  },
  {
   "cell_type": "code",
   "execution_count": 16,
   "metadata": {},
   "outputs": [
    {
     "name": "stdout",
     "output_type": "stream",
     "text": [
      "DARK 0001 - 0010\n",
      "DARK 0002 - 0010\n",
      "DARK 0003 - 0010\n",
      "DARK 0004 - 0010\n",
      "DARK 0005 - 0010\n",
      "DARK 0006 - 0010\n",
      "DARK 0007 - 0010\n",
      "DARK 0008 - 0010\n",
      "DARK 0009 - 0010\n",
      "DARK 0010 - 0010\n"
     ]
    },
    {
     "data": {
      "text/plain": [
       "array([2020072800045, 2020072800046, 2020072800047, 2020072800048,\n",
       "       2020072800049, 2020072800050, 2020072800051, 2020072800052,\n",
       "       2020072800053, 2020072800054])"
      ]
     },
     "execution_count": 16,
     "metadata": {},
     "output_type": "execute_result"
    }
   ],
   "source": [
    "await comcam.take_darks(exptime=100.0, ndarks=10, group_id=group_id)"
   ]
  },
  {
   "cell_type": "code",
   "execution_count": 17,
   "metadata": {},
   "outputs": [
    {
     "name": "stdout",
     "output_type": "stream",
     "text": [
      "FLAT 0001 - 0005\n",
      "FLAT 0002 - 0005\n",
      "FLAT 0003 - 0005\n",
      "FLAT 0004 - 0005\n",
      "FLAT 0005 - 0005\n"
     ]
    },
    {
     "data": {
      "text/plain": [
       "array([2020072800055, 2020072800056, 2020072800057, 2020072800058,\n",
       "       2020072800059])"
      ]
     },
     "execution_count": 17,
     "metadata": {},
     "output_type": "execute_result"
    }
   ],
   "source": [
    "await comcam.take_flats(exptime=5.0, nflats=5, group_id=group_id)"
   ]
  },
  {
   "cell_type": "code",
   "execution_count": 18,
   "metadata": {},
   "outputs": [
    {
     "name": "stdout",
     "output_type": "stream",
     "text": [
      "FLAT 0001 - 0005\n",
      "FLAT 0002 - 0005\n",
      "FLAT 0003 - 0005\n",
      "FLAT 0004 - 0005\n",
      "FLAT 0005 - 0005\n"
     ]
    },
    {
     "data": {
      "text/plain": [
       "array([2020072800060, 2020072800061, 2020072800062, 2020072800063,\n",
       "       2020072800064])"
      ]
     },
     "execution_count": 18,
     "metadata": {},
     "output_type": "execute_result"
    }
   ],
   "source": [
    "await comcam.take_flats(exptime=5.0, nflats=5, group_id=group_id)"
   ]
  },
  {
   "cell_type": "code",
   "execution_count": 19,
   "metadata": {},
   "outputs": [
    {
     "name": "stdout",
     "output_type": "stream",
     "text": [
      "[cccamera]::[<State.ENABLED: 2>, <State.DISABLED: 1>, <State.STANDBY: 5>]\n",
      "[ccheaderservice]::[<State.ENABLED: 2>, <State.DISABLED: 1>, <State.STANDBY: 5>]\n",
      "[ccarchiver]::[<State.ENABLED: 2>, <State.DISABLED: 1>, <State.STANDBY: 5>]\n",
      "All components in <State.STANDBY: 5>.\n"
     ]
    }
   ],
   "source": [
    "await comcam.standby()"
   ]
  },
  {
   "cell_type": "code",
   "execution_count": null,
   "metadata": {},
   "outputs": [],
   "source": []
  },
  {
   "cell_type": "code",
   "execution_count": null,
   "metadata": {},
   "outputs": [],
   "source": []
  }
 ],
 "metadata": {
  "kernelspec": {
   "display_name": "LSST",
   "language": "python",
   "name": "lsst"
  },
  "language_info": {
   "codemirror_mode": {
    "name": "ipython",
    "version": 3
   },
   "file_extension": ".py",
   "mimetype": "text/x-python",
   "name": "python",
   "nbconvert_exporter": "python",
   "pygments_lexer": "ipython3",
   "version": "3.7.6"
  }
 },
 "nbformat": 4,
 "nbformat_minor": 4
}
